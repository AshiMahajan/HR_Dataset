{
 "cells": [
  {
   "cell_type": "markdown",
   "id": "568f17e2",
   "metadata": {},
   "source": [
    "# Import Libraries"
   ]
  },
  {
   "cell_type": "code",
   "execution_count": 1,
   "id": "5d6427ad",
   "metadata": {},
   "outputs": [],
   "source": [
    "import pandas as pd\n",
    "# import numpy as np\n",
    "import matplotlib.pyplot as plt"
   ]
  },
  {
   "cell_type": "markdown",
   "id": "d1212407",
   "metadata": {},
   "source": [
    "# Predictions on the Dataset"
   ]
  },
  {
   "cell_type": "code",
   "execution_count": 2,
   "id": "f38ac136",
   "metadata": {},
   "outputs": [],
   "source": [
    "import pandas as pd\n",
    "from sklearn.model_selection import train_test_split\n",
    "from sklearn.linear_model import LogisticRegression\n",
    "from sklearn.preprocessing import OneHotEncoder, LabelEncoder\n",
    "from sklearn.metrics import accuracy_score, classification_report, confusion_matrix"
   ]
  },
  {
   "cell_type": "code",
   "execution_count": 6,
   "id": "b47835ee",
   "metadata": {},
   "outputs": [
    {
     "name": "stdout",
     "output_type": "stream",
     "text": [
      "Accuracy: 0.9468085106382979\n"
     ]
    },
    {
     "name": "stderr",
     "output_type": "stream",
     "text": [
      "C:\\Users\\ashim\\AppData\\Local\\Temp\\ipykernel_9652\\2193681138.py:9: FutureWarning: Dropping of nuisance columns in DataFrame reductions (with 'numeric_only=None') is deprecated; in a future version this will raise TypeError.  Select only valid columns before calling the reduction.\n",
      "  df.fillna(df.mean(), inplace=True)\n"
     ]
    }
   ],
   "source": [
    "# Load the CSV file\n",
    "df = pd.read_csv('Updated_HRDataset_v14.csv')\n",
    "\n",
    "# Preprocess the data\n",
    "df = df.drop(['EmpID', 'MaritalStatusID', 'Sex', 'PositionID', 'DeptID', 'PerfScoreID', 'EmpStatusID', 'EmploymentStatus', 'DateofTermination', 'ManagerID', 'DOB','DateofHire', 'LastPerformanceReview_Date'], axis=1)\n",
    "df['Termd'] = df['Termd'].map({0: 0, 1: 1})  # Convert Termd to binary\n",
    "\n",
    "# Handle missing values (if any)\n",
    "df.fillna(df.mean(), inplace=True)\n",
    "\n",
    "# Label encode the Position column\n",
    "le = LabelEncoder()\n",
    "df['Position'] = le.fit_transform(df['Position'])\n",
    "\n",
    "# One-hot encode categorical variables\n",
    "categorical_cols = ['Employee_Name', 'GenderID', 'FromDiversityJobFairID', 'State', 'Zip', 'CitizenDesc', 'HispanicLatino', 'RaceDesc', 'RecruitmentSource', 'MaritalDesc', 'TermReason', 'Department', 'ManagerName', 'PerformanceScore']\n",
    "encoder = OneHotEncoder(sparse=False)\n",
    "df_encoded = pd.concat([df.drop(categorical_cols, axis=1), pd.DataFrame(encoder.fit_transform(df[categorical_cols]), columns=encoder.get_feature_names_out(categorical_cols))], axis=1)\n",
    "\n",
    "# Split data into training and testing sets\n",
    "X_train, X_test, y_train, y_test = train_test_split(df_encoded.drop('Termd', axis=1), df_encoded['Termd'], test_size=0.3, random_state=42)\n",
    "\n",
    "# Train logistic regression model\n",
    "model = LogisticRegression(max_iter=1000)\n",
    "model.fit(X_train, y_train)\n",
    "\n",
    "y_pred = model.predict(X_test)\n",
    "print(\"Accuracy:\", accuracy_score(y_test, y_pred))"
   ]
  }
 ],
 "metadata": {
  "kernelspec": {
   "display_name": "Python 3 (ipykernel)",
   "language": "python",
   "name": "python3"
  },
  "language_info": {
   "codemirror_mode": {
    "name": "ipython",
    "version": 3
   },
   "file_extension": ".py",
   "mimetype": "text/x-python",
   "name": "python",
   "nbconvert_exporter": "python",
   "pygments_lexer": "ipython3",
   "version": "3.9.12"
  }
 },
 "nbformat": 4,
 "nbformat_minor": 5
}
